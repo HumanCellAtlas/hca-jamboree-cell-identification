{
 "cells": [
  {
   "cell_type": "code",
   "execution_count": 1,
   "metadata": {
    "collapsed": true
   },
   "outputs": [],
   "source": [
    "import numpy as np\n",
    "import itertools\n",
    "from pandas import DataFrame, Series\n",
    "import matplotlib.pyplot as plt\n",
    "%matplotlib inline"
   ]
  },
  {
   "cell_type": "code",
   "execution_count": 31,
   "metadata": {
    "collapsed": true
   },
   "outputs": [],
   "source": [
    "def diff(x, lag):\n",
    "    return x[lag:] - x[:-lag]\n",
    "\n",
    "def get_longest_true(arr):\n",
    "    total = 0\n",
    "    s_max = -1\n",
    "    id = -1\n",
    "    for b, g in itertools.groupby(arr):\n",
    "        s = len(list(g))\n",
    "        total += s\n",
    "        if b and s > s_max:\n",
    "            s_max = s\n",
    "            id = total\n",
    "    \n",
    "    return id - s_max, id - 1\n",
    "\n",
    "def arr_deriv(x, y, lag = 1):\n",
    "    return diff(y, lag) / diff(x, lag)\n",
    "\n",
    "def estimate_umi_counts(umi_counts, lag=0.05):\n",
    "    umi_counts = sorted(umi_counts)[::-1]\n",
    "    log_umi_counts = np.log(umi_counts)\n",
    "    log_rank = np.log(range(1, len(umi_counts) + 1))\n",
    "    lag = round(len(umi_counts) * lag)\n",
    "\n",
    "    x = log_rank[lag:len(log_rank)]; \n",
    "    y = arr_deriv(log_rank, log_umi_counts, lag)\n",
    "    x2 = x[lag:len(x)]\n",
    "    y2 = arr_deriv(x, y, lag)\n",
    "    max_num = int(round(np.exp(x2[get_longest_true(y2 > 0)[0]])))\n",
    "    expected_num = int(round(np.exp(x[np.argmin(y[1:(max_num-lag)])])-lag / 4))\n",
    "    return dict(expected=expected_num, max=max_num, min=round(expected_num * 0.75))"
   ]
  },
  {
   "cell_type": "code",
   "execution_count": 3,
   "metadata": {
    "collapsed": true
   },
   "outputs": [],
   "source": [
    "x = np.load('./numpy_arrays/simu_12_good.npy')"
   ]
  },
  {
   "cell_type": "code",
   "execution_count": 4,
   "metadata": {},
   "outputs": [],
   "source": [
    "tc = np.sum(x, axis=1)\n",
    "ord = np.argsort(tc)"
   ]
  },
  {
   "cell_type": "code",
   "execution_count": 32,
   "metadata": {
    "collapsed": true
   },
   "outputs": [],
   "source": [
    "umis_cnt_per_cb = np.array(sorted(tc)[::-1])"
   ]
  },
  {
   "cell_type": "code",
   "execution_count": 33,
   "metadata": {},
   "outputs": [
    {
     "name": "stdout",
     "output_type": "stream",
     "text": [
      "{'max': 11598, 'expected': 6330, 'min': 4748}\n"
     ]
    },
    {
     "data": {
      "image/png": "[encoded data removed]",
      "text/plain": [
       "<matplotlib.figure.Figure at 0x7fc54013d588>"
      ]
     },
     "metadata": {},
     "output_type": "display_data"
    }
   ],
   "source": [
    "out = estimate_umi_counts(umis_cnt_per_cb[1:30000])\n",
    "plt.plot(umis_cnt_per_cb)\n",
    "for k,v in out.items(): plt.plot([v,v],[10,2000])\n",
    "plt.xscale('log')\n",
    "plt.yscale('log')\n",
    "print(out)"
   ]
  },
  {
   "cell_type": "code",
   "execution_count": 37,
   "metadata": {},
   "outputs": [
    {
     "name": "stdout",
     "output_type": "stream",
     "text": [
      "max 11598 262\n",
      "expected 6330 478\n",
      "min 4748 1064\n"
     ]
    }
   ],
   "source": [
    "for k,v in out.items():\n",
    "    print(k,v,sorted(tc)[-v])"
   ]
  },
  {
   "cell_type": "code",
   "execution_count": null,
   "metadata": {
    "collapsed": true
   },
   "outputs": [],
   "source": []
  }
 ],
 "metadata": {
  "kernelspec": {
   "display_name": "Python 3",
   "language": "python",
   "name": "python3"
  },
  "language_info": {
   "codemirror_mode": {
    "name": "ipython",
    "version": 3
   },
   "file_extension": ".py",
   "mimetype": "text/x-python",
   "name": "python",
   "nbconvert_exporter": "python",
   "pygments_lexer": "ipython3",
   "version": "3.5.3"
  }
 },
 "nbformat": 4,
 "nbformat_minor": 2
}
